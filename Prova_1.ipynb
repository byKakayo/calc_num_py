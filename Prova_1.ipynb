{
  "nbformat": 4,
  "nbformat_minor": 0,
  "metadata": {
    "colab": {
      "name": "KarenKaoriYonea-10349471-2.ipynb",
      "provenance": [],
      "collapsed_sections": []
    },
    "kernelspec": {
      "name": "python3",
      "display_name": "Python 3"
    },
    "language_info": {
      "name": "python"
    }
  },
  "cells": [
    {
      "cell_type": "markdown",
      "metadata": {
        "id": "HV24aaOTebV5"
      },
      "source": [
        "# 1. Sistemas Lineares - Métodos Diretos\n",
        "\n"
      ]
    },
    {
      "cell_type": "markdown",
      "metadata": {
        "id": "8n4Hn9QHgFJ3"
      },
      "source": [
        "<ol type = \"a\">\n",
        "  <li>Método transforma um sistema linear $Ax = b$ de ordem $n$, onde $A$ possui todos os menores principais não-singulares, em um sistema triangular superior equivalente, através de aplicação sucessiva de operações elementares afim de obter mesma resolução de forma mais fácil. Primeiro obtém-se uma matriz aumentada na forma $[A|b]$, transforma-a em uma matriz triangular superior e resolve o novo sistema por substituição regressiva. Teoricamente a fatoração LU é equivalente ao método de Gauss, na fatoração LU guardamos os multiplicadores usados para tranformar $A$ em uma matriz triangular superior.  </li>\n",
        "</ol>"
      ]
    },
    {
      "cell_type": "markdown",
      "metadata": {
        "id": "t9XUMF04DH4t"
      },
      "source": [
        "<h5>Determine as matrizes M1, M2, M3"
      ]
    },
    {
      "cell_type": "code",
      "metadata": {
        "id": "AvQua54uDVXe",
        "colab": {
          "base_uri": "https://localhost:8080/"
        },
        "outputId": "a897f2db-534c-4c36-d554-595cc2a13b3a"
      },
      "source": [
        "#Biblioteca\n",
        "import numpy as np\n",
        "\n",
        "#Eliminação de Gauss\n",
        "def ElimGauss(A):\n",
        "  n = np.shape(A)[0]\n",
        "  for k in range(0,n-1):\n",
        "    for i in range(k+1,n):\n",
        "      lam = A[i,k]/A[k,k]\n",
        "      A[i,k:n] = A[i,k:n] - lam*A[k,k:n]\n",
        "    print(\"M\" + str(k + 1))\n",
        "    print(A, \"\\n\")      \n",
        "\n",
        "A = np.array([[-1, 2, -2, 1], [-2, 2, -3, 0],[-2, 0, -1, -3], [-2, 0, 0, -2]])\n",
        "ElimGauss(A)"
      ],
      "execution_count": null,
      "outputs": [
        {
          "output_type": "stream",
          "text": [
            "M1\n",
            "[[-1  2 -2  1]\n",
            " [ 0 -2  1 -2]\n",
            " [ 0 -4  3 -5]\n",
            " [ 0 -4  4 -4]] \n",
            "\n",
            "M2\n",
            "[[-1  2 -2  1]\n",
            " [ 0 -2  1 -2]\n",
            " [ 0  0  1 -1]\n",
            " [ 0  0  2  0]] \n",
            "\n",
            "M3\n",
            "[[-1  2 -2  1]\n",
            " [ 0 -2  1 -2]\n",
            " [ 0  0  1 -1]\n",
            " [ 0  0  0  2]] \n",
            "\n"
          ],
          "name": "stdout"
        }
      ]
    },
    {
      "cell_type": "markdown",
      "metadata": {
        "id": "qgcUB2jQCzxe"
      },
      "source": [
        "<h5>Cálculo da matriz inversa</h5>"
      ]
    },
    {
      "cell_type": "code",
      "metadata": {
        "colab": {
          "base_uri": "https://localhost:8080/"
        },
        "id": "LZnUoTh49ciJ",
        "outputId": "f06dda29-3149-441a-8149-bc57312606d7"
      },
      "source": [
        "#Biblioteca\n",
        "import numpy as np\n",
        "\n",
        "#Decomposição LU\n",
        "def decompLU(A):\n",
        "     n = np.shape(A)[0]\n",
        "     L = np.eye(n) \n",
        "     U = np.zeros((n,n))\n",
        "     for k  in np.arange(n):\n",
        "        for j in np.arange(k,n):\n",
        "           U[k,j]=A[k,j]\n",
        "           for s in np.arange(k):\n",
        "               U[k,j] = U[k,j] - L[k,s]*U[s,j]\n",
        "        for i in np.arange(k+1,n):\n",
        "           L[i,k]=A[i,k]\n",
        "           for s in np.arange(k):\n",
        "               L[i,k] = L[i,k] - L[i,s]*U[s,k]\n",
        "           L[i,k] = L[i,k]/U[k,k]\n",
        "     return L, U   \n",
        "\n",
        "#Resolução do sistema linear a partir da decomposição\n",
        "def solve(L,U,b):\n",
        "   n = np.shape(A)[0]  \n",
        "   for k in range(1,n):\n",
        "      b[k] = b[k] - L[k,0:k].dot(b[0:k])\n",
        "   for k in range(n-1,-1,-1):\n",
        "      b[k] = (b[k] - U[k,k+1:n].dot(b[k+1:n]))/U[k,k]\n",
        "   return b\n",
        "\n",
        "#Função que calcula a inversa a partir da decomposição LU\n",
        "def inversa(A):\n",
        "    n = np.shape(A)[0]\n",
        "    L,U = decompLU(A)\n",
        "    B = np.zeros((n,n))\n",
        "    for i in np.arange(n):\n",
        "        #gera a coluna correspondente a matriz identidade\n",
        "        y = np.zeros((n, 1))\n",
        "        y[i] = 1\n",
        "        #calcula a coluna correspondente ao indice\n",
        "        B[:,i] = solve(L, U, y)[:,0]\n",
        "    return B\n",
        "\n",
        "\n",
        "A = np.array([[-1, 2, -2, 1], [-2, 2, -3, 0],[-2, 0, -1, -3], [-2, 0, 0, -2]])\n",
        "B = inversa(A)\n",
        "\n",
        "print(\"A \\n\", A, \"\\n\")\n",
        "print(\"B = inversa(A) \\n\", B)"
      ],
      "execution_count": null,
      "outputs": [
        {
          "output_type": "stream",
          "text": [
            "A \n",
            " [[-1  2 -2  1]\n",
            " [-2  2 -3  0]\n",
            " [-2  0 -1 -3]\n",
            " [-2  0  0 -2]] \n",
            "\n",
            "B = inversa(A) \n",
            " [[ 1.   -1.    1.   -1.  ]\n",
            " [ 2.5  -2.    1.   -0.25]\n",
            " [ 1.   -1.    0.    0.5 ]\n",
            " [-1.    1.   -1.    0.5 ]]\n"
          ],
          "name": "stdout"
        }
      ]
    },
    {
      "cell_type": "markdown",
      "metadata": {
        "id": "c8NAS0wofaU_"
      },
      "source": [
        "# 2. Sistemas Lineares - Métodos Iterativos "
      ]
    },
    {
      "cell_type": "code",
      "metadata": {
        "colab": {
          "base_uri": "https://localhost:8080/"
        },
        "id": "VXRfjrqSDMCR",
        "outputId": "19754987-edd7-444a-a9b8-d87696f7bf94"
      },
      "source": [
        "#Bibliotecas\n",
        "import numpy as np\n",
        "import math as m\n",
        "\n",
        "# Gauss-Jacobi\n",
        "def gauss_jacobi(A,b,x0,tol,flag):\n",
        "    n = np.shape(A)[0];\n",
        "    D = np.diag(np.diag(A));\n",
        "    aux_C = np.linalg.solve(D,A);\n",
        "    C = np.eye(n) - aux_C;\n",
        "    g = np.linalg.solve(D,b);\n",
        "    kmax = 10000; k = 0;\n",
        "\n",
        "    print(\"Cj \\n \", C)\n",
        "    print(\"\\n gj \\n\", g, \"\\n\")\n",
        "\n",
        "    error = np.zeros(kmax);\n",
        "    if flag:\n",
        "        statment = (np.linalg.norm(b-A.dot(x0))>tol and k<kmax);\n",
        "    else:\n",
        "        statment = (k<kmax);\n",
        "\n",
        "    while statment:\n",
        "        error[k] = np.linalg.norm(b-A.dot(x0));\n",
        "        k = k+1;\n",
        "        x0 = C.dot(x0)+g;\n",
        "        if flag:\n",
        "            statment = (np.linalg.norm(b-A.dot(x0))>tol and k<kmax);\n",
        "        else:\n",
        "            statment = (k<kmax);\n",
        "    \n",
        "    if (k == kmax and flag):\n",
        "        print('\\nErro: o método não converge.\\n')\n",
        "    \n",
        "    x = x0;\n",
        "    return x,k,error\n",
        "\n",
        "# Gauss-Seidel\n",
        "def gauss_seidel(A,b,x0,tol,flag):\n",
        "    L = np.tril(A); R = np.triu(A,1);\n",
        "    C = -np.linalg.solve(L,R);\n",
        "    g = np.linalg.solve(L,b);\n",
        "    kmax = 10000; k = 0;\n",
        "\n",
        "    print(\"Cgs \\n \", C)\n",
        "    print(\"\\n ggs \\n\", g, \"\\n\")\n",
        "\n",
        "    error = np.zeros(kmax); \n",
        "\n",
        "    if flag: \n",
        "        statment = (np.linalg.norm(b-A.dot(x0))>tol and k<kmax);\n",
        "    else:\n",
        "        statment = (k<kmax);\n",
        "        \n",
        "    while statment:\n",
        "        error[k] = np.linalg.norm(b-A.dot(x0));\n",
        "        k = k+1;\n",
        "        x0 = C.dot(x0)+g;\n",
        "        if flag:\n",
        "            statment = (np.linalg.norm(b-A.dot(x0))>tol and k<kmax);\n",
        "        else:\n",
        "            statment = (k<kmax);\n",
        "\n",
        "    if (k == kmax and flag):\n",
        "        print('\\nErro: o método não converge.\\n')\n",
        "    \n",
        "    x = x0;\n",
        "    return x,k,error\n",
        "\n",
        "# Exemplo\n",
        "A = np.array([[ 4, -2, 1, 0, 0, 0], [-2, 7, -2, 1, 0, 0], [1, -2, 7, -2, 1, 0], [0, 1, -2, 7, -2, 1], [0, 0, 1, -2, 7, -2],[0, 0, 0, 1, -2, 4]], dtype='double')\n",
        "print(\"A \\n\", A)\n",
        "b = np.array([-1, -2, 1, 1, -2, -1], dtype='double')\n",
        "print(\"\\n b \\n\", b, \"\\n\")\n",
        "\n",
        "# Função Python\n",
        "print('\\nSolução Python:\\n')\n",
        "x = np.linalg.solve(A,b);\n",
        "print(x, \"\\n\");\n",
        "\n",
        "\n",
        "\n",
        "\n",
        "# Métodos Iterativos\n",
        "n = np.shape(A)[0];\n",
        "x0 = np.zeros(n); tol = 0.00000001; x0[0] = 1;\n",
        "\n",
        "print('\\nSolução Gauss-Jacobi:\\n')\n",
        "(x_jacobi,k_jacobi,erro_jacobi) = gauss_jacobi(A,b,x0,tol,1);\n",
        "\n",
        "print(x_jacobi);\n",
        "print('\\n Converge em %d iterações \\n' %(k_jacobi))\n",
        "\n",
        "\n",
        "\n",
        "\n",
        "print('\\nSolução Gauss-Siedel:\\n')\n",
        "(x_siedel,k_siedel,erro_siedel) = gauss_seidel(A,b,x0,tol,1);\n",
        "print(x_siedel);\n",
        "print('\\n Converge em %d iterações \\n' %(k_siedel))"
      ],
      "execution_count": null,
      "outputs": [
        {
          "output_type": "stream",
          "text": [
            "A \n",
            " [[ 4. -2.  1.  0.  0.  0.]\n",
            " [-2.  7. -2.  1.  0.  0.]\n",
            " [ 1. -2.  7. -2.  1.  0.]\n",
            " [ 0.  1. -2.  7. -2.  1.]\n",
            " [ 0.  0.  1. -2.  7. -2.]\n",
            " [ 0.  0.  0.  1. -2.  4.]]\n",
            "\n",
            " b \n",
            " [-1. -2.  1.  1. -2. -1.] \n",
            "\n",
            "\n",
            "Solução Python:\n",
            "\n",
            "[-0.50442478 -0.39823009  0.22123894  0.22123894 -0.39823009 -0.50442478] \n",
            "\n",
            "\n",
            "Solução Gauss-Jacobi:\n",
            "\n",
            "Cj \n",
            "  [[ 0.          0.5        -0.25        0.          0.          0.        ]\n",
            " [ 0.28571429  0.          0.28571429 -0.14285714  0.          0.        ]\n",
            " [-0.14285714  0.28571429  0.          0.28571429 -0.14285714  0.        ]\n",
            " [ 0.         -0.14285714  0.28571429  0.          0.28571429 -0.14285714]\n",
            " [ 0.          0.         -0.14285714  0.28571429  0.          0.28571429]\n",
            " [ 0.          0.          0.         -0.25        0.5         0.        ]]\n",
            "\n",
            " gj \n",
            " [-0.25       -0.28571429  0.14285714  0.14285714 -0.28571429 -0.25      ] \n",
            "\n",
            "[-0.50442478 -0.39823009  0.22123894  0.22123894 -0.39823009 -0.50442478]\n",
            "\n",
            " Converge em 80 iterações \n",
            "\n",
            "\n",
            "Solução Gauss-Siedel:\n",
            "\n",
            "Cgs \n",
            "  [[-0.          0.5        -0.25       -0.         -0.         -0.        ]\n",
            " [-0.          0.14285714  0.21428571 -0.14285714 -0.         -0.        ]\n",
            " [-0.         -0.03061224  0.09693878  0.24489796 -0.14285714 -0.        ]\n",
            " [-0.         -0.02915452 -0.00291545  0.09037901  0.24489796 -0.14285714]\n",
            " [-0.         -0.00395668 -0.01468138 -0.00916285  0.09037901  0.24489796]\n",
            " [-0.          0.00531029 -0.00661183 -0.02717618 -0.01603499  0.15816327]]\n",
            "\n",
            " ggs \n",
            " [-0.25       -0.35714286  0.07653061  0.21574344 -0.23500625 -0.42143898] \n",
            "\n",
            "[-0.50442478 -0.39823009  0.22123894  0.22123894 -0.39823009 -0.50442478]\n",
            "\n",
            " Converge em 15 iterações \n",
            "\n"
          ],
          "name": "stdout"
        }
      ]
    },
    {
      "cell_type": "markdown",
      "metadata": {
        "id": "4PYsxsStKAuY"
      },
      "source": [
        "Gauss-Siedel converge consideravelmente mais rápido que Gauss-Jacobi para esse caso"
      ]
    },
    {
      "cell_type": "code",
      "metadata": {
        "colab": {
          "base_uri": "https://localhost:8080/",
          "height": 329
        },
        "id": "JXsSL8Y1IuiZ",
        "outputId": "d6a0df7e-9231-4eab-93ef-371d836938cb"
      },
      "source": [
        "from matplotlib import pyplot as plt\n",
        "\n",
        "\n",
        "plt.figure(dpi=80)\n",
        "plt.plot(erro_jacobi[0:k_jacobi], label=\"Jacobi\")\n",
        "plt.plot(erro_siedel[0:k_siedel], label=\"Gauss-Siedel\")\n",
        "plt.xlabel(\"iterações\")\n",
        "plt.ylabel(\"erro\")\n",
        "plt.title(\"Erro dos métodos de Jacobi e Gauss-Siedel\")\n",
        "plt.legend()\n",
        "plt.tight_layout()\n",
        "plt.show()"
      ],
      "execution_count": null,
      "outputs": [
        {
          "output_type": "display_data",
          "data": {
            "image/png": "[encoded data removed]",
            "text/plain": [
              "<Figure size 480x320 with 1 Axes>"
            ]
          },
          "metadata": {
            "tags": [],
            "needs_background": "light"
          }
        }
      ]
    },
    {
      "cell_type": "markdown",
      "metadata": {
        "id": "kt8hZ9AuflXB"
      },
      "source": [
        "# 3. Problemas de Autovalor "
      ]
    },
    {
      "cell_type": "markdown",
      "metadata": {
        "id": "cqyklK9AtpnC"
      },
      "source": [
        "\n",
        "  * Método de Francis: Consiste em utilizar a decomposição QR e fazer uso das propriedades de ortoganalidade da matriz $Q$, até que o traço da matriz $A_{k}$ esteja próximo dos autovalores da matriz $A$. Para os autovetores inicia-se uma matriz $V$ igual a identidade que faz produto com a matriz $Q$ de cada iteração, as colunas de $V$ representam os autovetores.\n",
        "  * Método das Potências: O método supõe que há um autovalor dominante $\\lambda_{1}$ de forma que $A^{k}\\vec{y} = \\lambda_{1}^{k}[c_1\\vec{y_1} + c_2(\\frac{\\lambda_{2}}{\\lambda_{1}})^{k}\\vec{y_2} + ... + c_n(\\frac{\\lambda_{n}}{\\lambda_{1}})^{k}\\vec{y_n}]$ podesse reparar que para um $k$ muito grande $(\\frac{\\lambda_{n}}{\\lambda_{1}})^{k} \\approx 0$ e então $A^{k}\\vec{y} = \\lambda_{1}^{k}c_1\\vec{y_1}$\n",
        "  * Método das Potências inversa: Segue os mesmos conceitos do método das potências, mas ao invés de usar $\\lambda$ troca por $\\frac{1}{\\lambda}$, assim o método funciona para o menor $\\lambda$"
      ]
    },
    {
      "cell_type": "code",
      "metadata": {
        "id": "sLcOOyjeN0hO"
      },
      "source": [
        "import numpy as np\n",
        "\n",
        "# Decomposição QR\n",
        "# utilizado no método de Francis\n",
        "def QR(A):\n",
        "  # Dimensões da Matriz A\n",
        "  (m, n) = A.shape\n",
        "  # inicializando as matrizes Q e R\n",
        "  Q = np.zeros((m, n))\n",
        "  R = np.zeros((n, n))\n",
        "\n",
        "  # populando Q e R\n",
        "  for j in np.arange(n):\n",
        "    V = A[:,j]\n",
        "    for i in np.arange(j):\n",
        "      R[i,j] = Q[:,i] @ A[:,j]\n",
        "      V = V - R[i,j] * Q[:,i]\n",
        "    \n",
        "    R[j,j] = np.sqrt(V.T @ V)\n",
        "    Q[:,j] = V/R[j,j]\n",
        "  \n",
        "  return Q, R\n",
        "\n",
        "\n",
        "# Método de Francis\n",
        "def metFrancis(A, tol = 1e-6):\n",
        "  n = A.shape[0]\n",
        "  # iniciando a matriz de autovetores\n",
        "  V = np.eye(n)\n",
        "  erro = 2*tol\n",
        "\n",
        "  while erro > tol:\n",
        "    [Q, R] = QR(A)\n",
        "    A = R @ Q\n",
        "    V = V @ Q\n",
        "\n",
        "    erro = np.max(np.max(np.abs(np.tril(A,-1))))\n",
        "  \n",
        "  # Extraindo a diagonal de A_k\n",
        "  D = np.diag(A)\n",
        "  return D, V\n",
        "\n",
        "#Método da potência\n",
        "def metPotencia(A, tol = 1e-6):\n",
        "  k, kmax, erro = 0, 10000, 2*tol\n",
        "  n = A.shape[0]\n",
        "  y0 = np.zeros(n)\n",
        "  y0[0] = 1\n",
        "\n",
        "  while (erro > tol and k < kmax):\n",
        "    x = A @ y0\n",
        "    y = x/np.sqrt(x.T @ x)\n",
        "    erro = np.abs(np.abs(y0 @ y)-1)\n",
        "    y0 = y\n",
        "    k = k + 1\n",
        "\n",
        "  lambda_ = y @ A @ y;\n",
        "  return lambda_, y, k\n",
        "\n",
        "\n",
        "#Método da potência inversa\n",
        "def metPotenciaInv(A, tol = 1e-6):\n",
        "  k, kmax, erro = 0, 10000, 2*tol\n",
        "  n = A.shape[0]\n",
        "  y0 = np.zeros(n)\n",
        "  y0[0] = 1\n",
        "\n",
        "  while (erro > tol and k < kmax):\n",
        "    x = np.linalg.solve(A,y0)\n",
        "    y = x/np.sqrt(x.T @ x)\n",
        "    erro = np.abs(np.abs(y0 @ y)-1)\n",
        "    y0 = y\n",
        "    k = k + 1\n",
        "\n",
        "  lambda_ = y @ A @ y;\n",
        "  return lambda_, y, k"
      ],
      "execution_count": null,
      "outputs": []
    },
    {
      "cell_type": "code",
      "metadata": {
        "colab": {
          "base_uri": "https://localhost:8080/"
        },
        "id": "-oieKfO9blD3",
        "outputId": "a84aa4fc-390e-4996-8a26-f068daf16d12"
      },
      "source": [
        "MatrizA = np.array([  [11, 2, 3, 1, 4],\n",
        "                      [ 2, 9, 3, 5, 2],\n",
        "                      [ 3, 3,15, 4, 3],\n",
        "                      [ 1, 5, 4,12, 4],\n",
        "                      [ 4, 2, 3, 4,17]  ])\n",
        "francis = metFrancis(MatrizA)\n",
        "print(\"Método de Francis: \\n\", \"D \\n\", francis[0], \"\\n \\n V \\n\", francis[1], \"\\n \\n\")\n",
        "pot = metPotencia(MatrizA)\n",
        "print(\"Método da Potência \\n\", \"lambda:\", pot[0], \"\\n \\n v \\n\", pot[1], \"\\n \\n\")\n",
        "potInv = metPotenciaInv(MatrizA)\n",
        "print(\"Método da Potência Inversa \\n\", \"lambda:\", potInv[0], \"\\n \\n v \\n\", potInv[1], \"\\n \\n\")\n",
        "res = np.linalg.eig(MatrizA)\n",
        "print(\"Solução Python: \\n\", \"D \\n\", res[0], \"\\n \\n V \\n\", res[1], \"\\n \\n\")"
      ],
      "execution_count": null,
      "outputs": [
        {
          "output_type": "stream",
          "text": [
            "Método de Francis: \n",
            " D \n",
            " [26.02517458 13.50053662 10.93677451  8.66356791  4.87394638] \n",
            " \n",
            " V \n",
            " [[ 0.32743522 -0.18423653  0.50579155 -0.72910004 -0.26726603]\n",
            " [ 0.32598403  0.26654145 -0.31882378 -0.41391447  0.74142854]\n",
            " [ 0.49833057  0.54143934  0.5207781   0.42986388  0.05017271]\n",
            " [ 0.4474816   0.27839546 -0.60290532 -0.06955609 -0.59491453]\n",
            " [ 0.58133247 -0.72412152 -0.08844012  0.32782152  0.14970633]] \n",
            " \n",
            "\n",
            "Método da Potência \n",
            " lambda: 26.02516559992627 \n",
            " \n",
            " v \n",
            " [0.32774274 0.32570306 0.49802268 0.44710304 0.58187155] \n",
            " \n",
            "\n",
            "Método da Potência Inversa \n",
            " lambda: 4.873955411950512 \n",
            " \n",
            " v \n",
            " [ 0.26841677 -0.74080601 -0.05080944  0.59498958 -0.15021552] \n",
            " \n",
            "\n",
            "Solução Python: \n",
            " D \n",
            " [26.02517458  4.87394638  8.66356791 10.93677451 13.50053662] \n",
            " \n",
            " V \n",
            " [[ 0.32743522  0.26726603 -0.72910002 -0.50579164  0.18423634]\n",
            " [ 0.32598403 -0.74142854 -0.41391448  0.31882387 -0.26654133]\n",
            " [ 0.49833057 -0.05017271  0.4298639  -0.52077788 -0.54143954]\n",
            " [ 0.4474816   0.59491453 -0.06955611  0.60290543 -0.27839523]\n",
            " [ 0.58133247 -0.14970633  0.32782151  0.08843985  0.72412155]] \n",
            " \n",
            "\n"
          ],
          "name": "stdout"
        }
      ]
    },
    {
      "cell_type": "markdown",
      "metadata": {
        "id": "3Lc7FuWJ4Ft2"
      },
      "source": [
        "Os métodos apresentam resultados equivalentes exceto por alguns sinais trocados devido as operações matriciais. O método de Francis apresenta um valor aproximado dado o seu critério de parada."
      ]
    },
    {
      "cell_type": "markdown",
      "metadata": {
        "id": "0RF5Rs5PZg38"
      },
      "source": [
        "# 4. Problemas de Autovalor - PageRank do Google "
      ]
    },
    {
      "cell_type": "markdown",
      "metadata": {
        "id": "rSs-BrdkkQZ6"
      },
      "source": [
        "Para o ranqueamento das páginas deve-se considerar a quantidade de referências que cada página recebe, tratamos essas conexões entre as páginas como um grafo direcionado. Sendo o vetor $y$ a relevância de cada página e $A$ a matriz de adjacência do grafo, temos $y = Ay$ sendo $y$ o autovetor da matriz $A$ correspondente ao autovalor 1. Para que consigamos calcular o autovetor $y$ é preciso aplicar modificações na matriz $A$, a primeira delas é garantir que o grafo seja percorrido sem que caia em nós pendentes(páginas sem link) atribuindo uma probabilidade igual de prosseguir para qualquer outra página a segunda modificação é adicionar um fator correspondente a um utilizador imaginário que siga as ligações entre as páginas aleatoriamente transformando o em um grafo irredutível afim de evitar ciclos. Por fim é utilizado o método de potências para encontrar o vetor $y$ da matriz irredutível.  "
      ]
    },
    {
      "cell_type": "code",
      "metadata": {
        "id": "_kFseKy8ZdRq"
      },
      "source": [
        "import numpy as np\n",
        "\n",
        "# Função que recebe uma lista de arestas e retorna a matriz de adjacência\n",
        "def matriz_adjacencia(arestas, num_vertices):\n",
        "  A = np.zeros((num_vertices, num_vertices) , float)\n",
        "  \n",
        "  for vertice_i, vertice_j in arestas:\n",
        "    A[vertice_i-1, vertice_j-1] = 1\n",
        "  \n",
        "  return A\n",
        "\n",
        "# Método da potencia e cadeia de markov\n",
        "def potencias_markov(A, kmax = 1000, tol = 1e-6):\n",
        "  k = 0 # iterador\n",
        "  erro = 2*tol # erro inicial\n",
        "  n = A.shape[0]\n",
        "  y0 = np.ones((n,1))/n # vetor de distribuição de probabilidades\n",
        "  \n",
        "  while ((erro > tol) and (k < kmax)):\n",
        "    # multiplica matriz A pela distribuição de probabilidades y0\n",
        "    y = A @ y0\n",
        "    # calcula o erro\n",
        "    erro = np.abs(np.abs(y0.T @ y)-1)\n",
        "    y0 = y\n",
        "    k = k+1\n",
        "  \n",
        "  # lambda associado ao autovetor y\n",
        "  lambda_ = y.T @ A @ y\n",
        "\n",
        "  # retorna o autovetor associado ao lambda\n",
        "  # como o pagerank utiliza somente o autovetor\n",
        "  # as outras saidas foram omitidas\n",
        "  return y\n",
        "\n",
        "# algoritmo do pagerank recebe a matriz de adjacência e a constante alpha\n",
        "def pagerank(matriz_adj, alpha = 0.85):\n",
        "  n = matriz_adj.shape[0]\n",
        "  # soma o numero de conexões de cada pagina\n",
        "  soma = np.array(sum(matriz_adj))\n",
        "  # verifica qual pagina não tem conexão\n",
        "  j = np.where(soma == 0)\n",
        "  # Resolvendo os problemas com sumidouros\n",
        "  matriz_adj[:,j] = 1\n",
        "\n",
        "  # grafo modificado\n",
        "  S = np.divide(matriz_adj, sum(matriz_adj).T)\n",
        "  # grafo irredutível\n",
        "  G = alpha*S + (1-alpha)*np.ones((n,n))/n\n",
        "  # aplicação do método das potências\n",
        "  y = potencias_markov(G)\n",
        "\n",
        "  # retorna os indices em ordem decrecente\n",
        "  return np.argsort(y[:,0])[-1::-1] + 1"
      ],
      "execution_count": null,
      "outputs": []
    },
    {
      "cell_type": "code",
      "metadata": {
        "colab": {
          "base_uri": "https://localhost:8080/"
        },
        "id": "_jA-bZ5KmQ6C",
        "outputId": "d510dfaf-1b15-4881-d55a-2a4823e83fc8"
      },
      "source": [
        "# lista de arestas das conexões dos sites\n",
        "lista_arestas = [ [2, 1], [3, 1], [2, 3], [4, 3], [5, 4], [6, 4], [6, 5], [4, 6], [5, 6] ]\n",
        "# matriz de adjacência da lista de arestas\n",
        "m_adj = matriz_adjacencia(lista_arestas, 6)\n",
        "# ranking dos sites\n",
        "ranking = pagerank(m_adj)\n",
        "# imprime o ranking\n",
        "print(ranking)"
      ],
      "execution_count": null,
      "outputs": [
        {
          "output_type": "stream",
          "text": [
            "[6 5 4 2 3 1]\n"
          ],
          "name": "stdout"
        }
      ]
    }
  ]
}